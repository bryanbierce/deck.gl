{
 "cells": [
  {
   "cell_type": "markdown",
   "metadata": {},
   "source": [
    "# A Brief Intro to PyDeck\n",
    "\n",
    "The PyDeck library uses deck.gl's JSON API to create deck.gl layers in Python.\n",
    "\n",
    "Deck.gl expects that the user passes a layer, an initial viewpoint, and a kind of map orientation are specified by the user. In this example below, we set the kind of layer we'd like (`HexagonLayer`) and a few other layer-specific parameters (e.g., `elevation_scale`, `elevation_range`) read from the documentation for deck.gl [HexagonLayer](https://github.com/uber/deck.gl/blob/master/docs/layers/hexagon-layer.md)."
   ]
  },
  {
   "cell_type": "code",
   "execution_count": 1,
   "metadata": {},
   "outputs": [],
   "source": [
    "import pydeck as pdk"
   ]
  },
  {
   "cell_type": "markdown",
   "metadata": {},
   "source": [
    "## Set up a deck.gl configuration"
   ]
  },
  {
   "cell_type": "code",
   "execution_count": 4,
   "metadata": {},
   "outputs": [
    {
     "data": {
      "application/vnd.jupyter.widget-view+json": {
       "model_id": "55a8acca3fa64c49b8c2b76dc260a8d3",
       "version_major": 2,
       "version_minor": 0
      },
      "text/plain": [
       "RGVja0dMV2lkZ2V0KGpzb25faW5wdXQ9dSd7ImluaXRpYWxWaWV3U3RhdGUiOiB7ImJlYXJpbmciOiAtMjcuMzk2LCAibGF0aXR1ZGUiOiA1Mi4yMzIzLCAibG9uZ2l0dWRlIjogLTEuNDE1LCDigKY=\n"
      ]
     },
     "metadata": {},
     "output_type": "display_data"
    }
   ],
   "source": [
    "# Specify a URL for your data CSV\n",
    "UK_ACCIDENTS_DATA = 'https://raw.githubusercontent.com/uber-common/deck.gl-data/master/examples/3d-heatmap/heatmap-data.csv'\n",
    "\n",
    "# Specify attributes specific to your visualization\n",
    "layer = pdk.Layer(\n",
    "    # Type of layer, with the choices below:\n",
    "    # https://deck.gl/#/documentation/deckgl-api-reference/layers/overview\n",
    "    'HexagonLayer',\n",
    "    # URL for the data. Can also be a list of Python dictionaries\n",
    "    UK_ACCIDENTS_DATA,\n",
    "    # Layer-specific parameters: Range of hexagon bar height\n",
    "    elevation_scale=50,\n",
    "    elevation_range=[0, 3000],\n",
    "    extruded=True,                 \n",
    "    coverage=1\n",
    ")\n",
    "\n",
    "# Set the viewport location\n",
    "view_state = pdk.ViewState(\n",
    "    longitude=-1.415,\n",
    "    latitude=52.2323,\n",
    "    zoom=6,\n",
    "    min_zoom=5,\n",
    "    max_zoom=15,\n",
    "    pitch=40.5,\n",
    "    bearing=-27.396)\n",
    "\n",
    "# Combined all of it and render a viewport\n",
    "r = pdk.Deck(layers=[layer], initial_view_state=view_state)\n",
    "r.show()"
   ]
  },
  {
   "cell_type": "markdown",
   "metadata": {},
   "source": [
    "## Render an update to the visualization"
   ]
  },
  {
   "cell_type": "code",
   "execution_count": 5,
   "metadata": {},
   "outputs": [],
   "source": [
    "layer.elevation_range = [0, 2000]\n",
    "r.update()"
   ]
  },
  {
   "cell_type": "markdown",
   "metadata": {},
   "source": [
    "## Support updates over time"
   ]
  },
  {
   "cell_type": "code",
   "execution_count": 6,
   "metadata": {},
   "outputs": [],
   "source": [
    "import time\n",
    "\n",
    "for i in range(0, 10000, 1000):\n",
    "    layer.elevation_range = [0, i]\n",
    "    r.update()\n",
    "    time.sleep(0.1)"
   ]
  },
  {
   "cell_type": "markdown",
   "metadata": {},
   "source": [
    "# Example of other specifiable attributes"
   ]
  },
  {
   "cell_type": "markdown",
   "metadata": {},
   "source": [
    "We also specify light settings using `pdk.LightSettings` to get light angles relative to the HexagonLayer we'll create, and a `view_state` for our initial viewpoint. The `pdk.View` object in this case is set to a default [MapView](https://github.com/uber/deck.gl/blob/master/docs/api-reference/map-view.md), which behaves like many familiar web map interfaces. Finally, we combine all those object into one for plotting as a `pdk.Deck` object.\n",
    "\n",
    "`r.show()` renders the plot."
   ]
  },
  {
   "cell_type": "code",
   "execution_count": 7,
   "metadata": {},
   "outputs": [],
   "source": [
    "# Example from https://deck.gl/json\n",
    "layer = pdk.Layer(\n",
    "    'HexagonLayer',\n",
    "    'https://raw.githubusercontent.com/uber-common/deck.gl-data/master/examples/3d-heatmap/heatmap-data.csv',\n",
    "    elevation_scale=50,\n",
    "    elevation_range=[0, 3000],\n",
    "    extruded=True,\n",
    "    coverage=1)\n",
    "# Specify that location for the lights on the map\n",
    "lights = pdk.LightSettings(\n",
    "    lights_position=[\n",
    "        -0.144528,\n",
    "        49.739968,\n",
    "        8000,\n",
    "        -3.807751,\n",
    "        54.104682,\n",
    "        10000],\n",
    "    ambient_ratio=0.7,\n",
    "    diffuse_ratio=0.6)\n",
    "layer.light_settings = lights\n",
    "view_state = pdk.ViewState(\n",
    "    longitude=-1.415,\n",
    "    latitude=52.2323,\n",
    "    zoom=6.6,\n",
    "    min_zoom=5,\n",
    "    max_zoom=15,\n",
    "    pitch=40.5,\n",
    "    bearing=-27.396)\n",
    "view = pdk.View('MapView', True)\n",
    "r = pdk.Deck(layers=[layer], initial_view_state=view_state, views=[view])"
   ]
  },
  {
   "cell_type": "code",
   "execution_count": 8,
   "metadata": {},
   "outputs": [
    {
     "data": {
      "application/vnd.jupyter.widget-view+json": {
       "model_id": "3b9786c3664248aeb722a1086e848318",
       "version_major": 2,
       "version_minor": 0
      },
      "text/plain": [
       "RGVja0dMV2lkZ2V0KGpzb25faW5wdXQ9dSd7ImluaXRpYWxWaWV3U3RhdGUiOiB7ImJlYXJpbmciOiAtMjcuMzk2LCAibGF0aXR1ZGUiOiA1Mi4yMzIzLCAibG9uZ2l0dWRlIjogLTEuNDE1LCDigKY=\n"
      ]
     },
     "metadata": {},
     "output_type": "display_data"
    }
   ],
   "source": [
    "r.show()"
   ]
  }
 ],
 "metadata": {
  "kernelspec": {
   "display_name": "Python 2",
   "language": "python",
   "name": "python2"
  },
  "language_info": {
   "codemirror_mode": {
    "name": "ipython",
    "version": 2
   },
   "file_extension": ".py",
   "mimetype": "text/x-python",
   "name": "python",
   "nbconvert_exporter": "python",
   "pygments_lexer": "ipython2",
   "version": "2.7.16"
  },
  "widgets": {
   "application/vnd.jupyter.widget-state+json": {
    "state": {
     "3b9786c3664248aeb722a1086e848318": {
      "model_module": "@deck.gl/jupyter-widget",
      "model_module_version": "^7.1.0-alpha.1",
      "model_name": "DeckGLModel",
      "state": {
       "_model_module_version": "^7.1.0-alpha.1",
       "_view_module_version": "^7.1.0-alpha.1",
       "json_input": "{\"initialViewState\": {\"bearing\": -27.396, \"latitude\": 52.2323, \"longitude\": -1.415, \"maxZoom\": 15, \"minZoom\": 5, \"pitch\": 40.5, \"zoom\": 6.6}, \"layers\": [{\"colorRange\": [[1, 152, 189], [73, 227, 206], [216, 254, 181], [254, 237, 177], [254, 173, 84], [209, 55, 78]], \"coverage\": 1, \"data\": \"https://raw.githubusercontent.com/uber-common/deck.gl-data/master/examples/3d-heatmap/heatmap-data.csv\", \"elevationRange\": [0, 3000], \"elevationScale\": 50, \"extruded\": true, \"getPosition\": \"-\", \"getRadius\": 1000, \"id\": \"71799c82-d104-4ca1-8d02-b5d48460708c\", \"lightSettings\": {\"ambientRatio\": 0.7, \"diffuseRatio\": 0.6, \"lightsPosition\": [-0.144528, 49.739968, 8000, -3.807751, 54.104682, 10000], \"numberOfLights\": 2}, \"opacity\": 1, \"radius\": 1000, \"type\": \"HexagonLayer\", \"upperPercentile\": 100}], \"mapStyle\": \"mapbox://styles/mapbox/dark-v9\", \"views\": [{\"controller\": true, \"type\": \"MapView\"}]}",
       "layout": "IPY_MODEL_c93002f6c4a842e9bc47cba1f0a47022",
       "mapbox_key": "pk.eyJ1IjoiZHViZXJzYWoyIiwiYSI6ImNqcHhmYzcwNTBrZHc0OW9udGljMm1pNXQifQ.DxYvaredXVDkvS0nSAuf_Q"
      }
     },
     "55a8acca3fa64c49b8c2b76dc260a8d3": {
      "model_module": "@deck.gl/jupyter-widget",
      "model_module_version": "^7.1.0-alpha.1",
      "model_name": "DeckGLModel",
      "state": {
       "_model_module_version": "^7.1.0-alpha.1",
       "_view_module_version": "^7.1.0-alpha.1",
       "json_input": "{\"initialViewState\": {\"bearing\": -27.396, \"latitude\": 52.2323, \"longitude\": -1.415, \"maxZoom\": 15, \"minZoom\": 5, \"pitch\": 40.5, \"zoom\": 6}, \"layers\": [{\"colorRange\": [[1, 152, 189], [73, 227, 206], [216, 254, 181], [254, 237, 177], [254, 173, 84], [209, 55, 78]], \"coverage\": 1, \"data\": \"https://raw.githubusercontent.com/uber-common/deck.gl-data/master/examples/3d-heatmap/heatmap-data.csv\", \"elevationRange\": [0, 9000], \"elevationScale\": 50, \"extruded\": true, \"getPosition\": \"-\", \"getRadius\": 1000, \"id\": \"24807c08-e7be-4aa4-8575-5462f16c6313\", \"opacity\": 1, \"radius\": 1000, \"type\": \"HexagonLayer\", \"upperPercentile\": 100}], \"mapStyle\": \"mapbox://styles/mapbox/dark-v9\", \"views\": [{\"controller\": true, \"type\": \"MapView\"}]}",
       "layout": "IPY_MODEL_cfb0222b37ef4555b285b0c42ff0a0e8",
       "mapbox_key": "pk.eyJ1IjoiZHViZXJzYWoyIiwiYSI6ImNqcHhmYzcwNTBrZHc0OW9udGljMm1pNXQifQ.DxYvaredXVDkvS0nSAuf_Q"
      }
     },
     "5654614a55664d91a75ad631467d2511": {
      "model_module": "@jupyter-widgets/base",
      "model_module_version": "1.1.0",
      "model_name": "LayoutModel",
      "state": {}
     },
     "89e5bc7802ef460d8e03ab16fcfe0adf": {
      "model_module": "@deck.gl/jupyter-widget",
      "model_module_version": "^7.1.0-alpha.1",
      "model_name": "DeckGLModel",
      "state": {
       "_model_module_version": "^7.1.0-alpha.1",
       "_view_module_version": "^7.1.0-alpha.1",
       "json_input": "{\"initialViewState\": {\"bearing\": -27.396, \"latitude\": 52.2323, \"longitude\": -1.415, \"maxZoom\": 15, \"minZoom\": 5, \"pitch\": 40.5, \"zoom\": 6.6}, \"layers\": [{\"colorRange\": [[1, 152, 189], [73, 227, 206], [216, 254, 181], [254, 237, 177], [254, 173, 84], [209, 55, 78]], \"coverage\": 1, \"data\": \"https://raw.githubusercontent.com/uber-common/deck.gl-data/master/examples/3d-heatmap/heatmap-data.csv\", \"elevationRange\": [0, 3000], \"elevationScale\": 50, \"extruded\": true, \"getPosition\": \"-\", \"getRadius\": 1000, \"id\": \"61da0d21-e44c-4c15-8c56-e8f6555f5675\", \"opacity\": 1, \"radius\": 1000, \"type\": \"HexagonLayer\", \"upperPercentile\": 100}], \"mapStyle\": \"mapbox://styles/mapbox/dark-v9\", \"views\": [{\"controller\": true, \"type\": \"MapView\"}]}",
       "layout": "IPY_MODEL_5654614a55664d91a75ad631467d2511",
       "mapbox_key": "pk.eyJ1IjoiZHViZXJzYWoyIiwiYSI6ImNqcHhmYzcwNTBrZHc0OW9udGljMm1pNXQifQ.DxYvaredXVDkvS0nSAuf_Q"
      }
     },
     "c93002f6c4a842e9bc47cba1f0a47022": {
      "model_module": "@jupyter-widgets/base",
      "model_module_version": "1.1.0",
      "model_name": "LayoutModel",
      "state": {}
     },
     "cfb0222b37ef4555b285b0c42ff0a0e8": {
      "model_module": "@jupyter-widgets/base",
      "model_module_version": "1.1.0",
      "model_name": "LayoutModel",
      "state": {}
     }
    },
    "version_major": 2,
    "version_minor": 0
   }
  }
 },
 "nbformat": 4,
 "nbformat_minor": 2
}
