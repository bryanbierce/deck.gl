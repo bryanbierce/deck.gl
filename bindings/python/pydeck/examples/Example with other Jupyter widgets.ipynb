{
 "cells": [
  {
   "cell_type": "code",
   "execution_count": 1,
   "metadata": {},
   "outputs": [],
   "source": [
    "import pydeck as pyd\n",
    "import pandas as pd"
   ]
  },
  {
   "cell_type": "markdown",
   "metadata": {},
   "source": [
    "# Plotting lights at night\n",
    "\n",
    "NASA has collected global light emission data for over 30 years\n",
    "\n",
    "## Getting the data\n",
    "\n",
    "The data for Chengdu, China, is cleaned and available below:"
   ]
  },
  {
   "cell_type": "code",
   "execution_count": 2,
   "metadata": {},
   "outputs": [
    {
     "data": {
      "text/html": [
       "<div>\n",
       "<style scoped>\n",
       "    .dataframe tbody tr th:only-of-type {\n",
       "        vertical-align: middle;\n",
       "    }\n",
       "\n",
       "    .dataframe tbody tr th {\n",
       "        vertical-align: top;\n",
       "    }\n",
       "\n",
       "    .dataframe thead th {\n",
       "        text-align: right;\n",
       "    }\n",
       "</style>\n",
       "<table border=\"1\" class=\"dataframe\">\n",
       "  <thead>\n",
       "    <tr style=\"text-align: right;\">\n",
       "      <th></th>\n",
       "      <th>year</th>\n",
       "      <th>lng</th>\n",
       "      <th>lat</th>\n",
       "      <th>brightness</th>\n",
       "    </tr>\n",
       "  </thead>\n",
       "  <tbody>\n",
       "    <tr>\n",
       "      <th>0</th>\n",
       "      <td>1993</td>\n",
       "      <td>104.575</td>\n",
       "      <td>31.808</td>\n",
       "      <td>4</td>\n",
       "    </tr>\n",
       "    <tr>\n",
       "      <th>1</th>\n",
       "      <td>1993</td>\n",
       "      <td>104.583</td>\n",
       "      <td>31.808</td>\n",
       "      <td>4</td>\n",
       "    </tr>\n",
       "    <tr>\n",
       "      <th>2</th>\n",
       "      <td>1993</td>\n",
       "      <td>104.592</td>\n",
       "      <td>31.808</td>\n",
       "      <td>4</td>\n",
       "    </tr>\n",
       "    <tr>\n",
       "      <th>3</th>\n",
       "      <td>1993</td>\n",
       "      <td>104.600</td>\n",
       "      <td>31.808</td>\n",
       "      <td>4</td>\n",
       "    </tr>\n",
       "    <tr>\n",
       "      <th>4</th>\n",
       "      <td>1993</td>\n",
       "      <td>104.675</td>\n",
       "      <td>31.808</td>\n",
       "      <td>4</td>\n",
       "    </tr>\n",
       "  </tbody>\n",
       "</table>\n",
       "</div>"
      ],
      "text/plain": [
       "   year      lng     lat  brightness\n",
       "0  1993  104.575  31.808           4\n",
       "1  1993  104.583  31.808           4\n",
       "2  1993  104.592  31.808           4\n",
       "3  1993  104.600  31.808           4\n",
       "4  1993  104.675  31.808           4"
      ]
     },
     "execution_count": 2,
     "metadata": {},
     "output_type": "execute_result"
    }
   ],
   "source": [
    "LIGHTS_URL = 'https://raw.githubusercontent.com/ajduberstein/lights_at_night/master/chengdu_lights_at_night.csv'\n",
    "df = pd.read_csv(LIGHTS_URL)\n",
    "df.head()"
   ]
  },
  {
   "cell_type": "markdown",
   "metadata": {},
   "source": [
    "### Setting the colors\n",
    "PyDeck does need to know the color for this data in advance of plotting it"
   ]
  },
  {
   "cell_type": "code",
   "execution_count": 3,
   "metadata": {},
   "outputs": [
    {
     "data": {
      "text/html": [
       "<div>\n",
       "<style scoped>\n",
       "    .dataframe tbody tr th:only-of-type {\n",
       "        vertical-align: middle;\n",
       "    }\n",
       "\n",
       "    .dataframe tbody tr th {\n",
       "        vertical-align: top;\n",
       "    }\n",
       "\n",
       "    .dataframe thead th {\n",
       "        text-align: right;\n",
       "    }\n",
       "</style>\n",
       "<table border=\"1\" class=\"dataframe\">\n",
       "  <thead>\n",
       "    <tr style=\"text-align: right;\">\n",
       "      <th></th>\n",
       "      <th>year</th>\n",
       "      <th>lng</th>\n",
       "      <th>lat</th>\n",
       "      <th>brightness</th>\n",
       "      <th>color</th>\n",
       "    </tr>\n",
       "  </thead>\n",
       "  <tbody>\n",
       "    <tr>\n",
       "      <th>66127</th>\n",
       "      <td>2009</td>\n",
       "      <td>104.483</td>\n",
       "      <td>30.875</td>\n",
       "      <td>7</td>\n",
       "      <td>[255, 28, 255, 255]</td>\n",
       "    </tr>\n",
       "    <tr>\n",
       "      <th>164537</th>\n",
       "      <td>2013</td>\n",
       "      <td>105.500</td>\n",
       "      <td>30.633</td>\n",
       "      <td>9</td>\n",
       "      <td>[255, 36, 255, 255]</td>\n",
       "    </tr>\n",
       "    <tr>\n",
       "      <th>1955</th>\n",
       "      <td>1993</td>\n",
       "      <td>104.425</td>\n",
       "      <td>31.317</td>\n",
       "      <td>4</td>\n",
       "      <td>[255, 16, 255, 255]</td>\n",
       "    </tr>\n",
       "    <tr>\n",
       "      <th>107617</th>\n",
       "      <td>2001</td>\n",
       "      <td>104.617</td>\n",
       "      <td>30.208</td>\n",
       "      <td>5</td>\n",
       "      <td>[255, 20, 255, 255]</td>\n",
       "    </tr>\n",
       "    <tr>\n",
       "      <th>54281</th>\n",
       "      <td>1995</td>\n",
       "      <td>105.075</td>\n",
       "      <td>29.558</td>\n",
       "      <td>15</td>\n",
       "      <td>[255, 60, 255, 255]</td>\n",
       "    </tr>\n",
       "    <tr>\n",
       "      <th>82232</th>\n",
       "      <td>2009</td>\n",
       "      <td>104.825</td>\n",
       "      <td>29.758</td>\n",
       "      <td>19</td>\n",
       "      <td>[255, 76, 255, 255]</td>\n",
       "    </tr>\n",
       "    <tr>\n",
       "      <th>315440</th>\n",
       "      <td>1999</td>\n",
       "      <td>102.767</td>\n",
       "      <td>29.767</td>\n",
       "      <td>4</td>\n",
       "      <td>[255, 16, 255, 255]</td>\n",
       "    </tr>\n",
       "    <tr>\n",
       "      <th>10367</th>\n",
       "      <td>1993</td>\n",
       "      <td>105.542</td>\n",
       "      <td>30.483</td>\n",
       "      <td>4</td>\n",
       "      <td>[255, 16, 255, 255]</td>\n",
       "    </tr>\n",
       "    <tr>\n",
       "      <th>240060</th>\n",
       "      <td>2011</td>\n",
       "      <td>105.433</td>\n",
       "      <td>30.508</td>\n",
       "      <td>4</td>\n",
       "      <td>[255, 16, 255, 255]</td>\n",
       "    </tr>\n",
       "    <tr>\n",
       "      <th>228059</th>\n",
       "      <td>2011</td>\n",
       "      <td>104.417</td>\n",
       "      <td>31.067</td>\n",
       "      <td>35</td>\n",
       "      <td>[255, 140, 255, 255]</td>\n",
       "    </tr>\n",
       "  </tbody>\n",
       "</table>\n",
       "</div>"
      ],
      "text/plain": [
       "        year      lng     lat  brightness                 color\n",
       "66127   2009  104.483  30.875           7   [255, 28, 255, 255]\n",
       "164537  2013  105.500  30.633           9   [255, 36, 255, 255]\n",
       "1955    1993  104.425  31.317           4   [255, 16, 255, 255]\n",
       "107617  2001  104.617  30.208           5   [255, 20, 255, 255]\n",
       "54281   1995  105.075  29.558          15   [255, 60, 255, 255]\n",
       "82232   2009  104.825  29.758          19   [255, 76, 255, 255]\n",
       "315440  1999  102.767  29.767           4   [255, 16, 255, 255]\n",
       "10367   1993  105.542  30.483           4   [255, 16, 255, 255]\n",
       "240060  2011  105.433  30.508           4   [255, 16, 255, 255]\n",
       "228059  2011  104.417  31.067          35  [255, 140, 255, 255]"
      ]
     },
     "execution_count": 3,
     "metadata": {},
     "output_type": "execute_result"
    }
   ],
   "source": [
    "df['color'] = df['brightness'].apply(lambda val: [255, val * 4,  255, 255])\n",
    "df.sample(10)"
   ]
  },
  {
   "cell_type": "markdown",
   "metadata": {},
   "source": [
    "### Configuring the coordinates\n",
    "\n",
    "Currently PyDeck expects coordinates to be an array listed in one field, which we can implement in Pandas:"
   ]
  },
  {
   "cell_type": "code",
   "execution_count": 4,
   "metadata": {},
   "outputs": [
    {
     "data": {
      "text/html": [
       "<div>\n",
       "<style scoped>\n",
       "    .dataframe tbody tr th:only-of-type {\n",
       "        vertical-align: middle;\n",
       "    }\n",
       "\n",
       "    .dataframe tbody tr th {\n",
       "        vertical-align: top;\n",
       "    }\n",
       "\n",
       "    .dataframe thead th {\n",
       "        text-align: right;\n",
       "    }\n",
       "</style>\n",
       "<table border=\"1\" class=\"dataframe\">\n",
       "  <thead>\n",
       "    <tr style=\"text-align: right;\">\n",
       "      <th></th>\n",
       "      <th>position</th>\n",
       "      <th>color</th>\n",
       "      <th>year</th>\n",
       "    </tr>\n",
       "  </thead>\n",
       "  <tbody>\n",
       "    <tr>\n",
       "      <th>0</th>\n",
       "      <td>[104.575, 31.808]</td>\n",
       "      <td>[255, 16, 255, 255]</td>\n",
       "      <td>1993</td>\n",
       "    </tr>\n",
       "    <tr>\n",
       "      <th>1</th>\n",
       "      <td>[104.583, 31.808]</td>\n",
       "      <td>[255, 16, 255, 255]</td>\n",
       "      <td>1993</td>\n",
       "    </tr>\n",
       "    <tr>\n",
       "      <th>2</th>\n",
       "      <td>[104.592, 31.808]</td>\n",
       "      <td>[255, 16, 255, 255]</td>\n",
       "      <td>1993</td>\n",
       "    </tr>\n",
       "    <tr>\n",
       "      <th>3</th>\n",
       "      <td>[104.6, 31.808]</td>\n",
       "      <td>[255, 16, 255, 255]</td>\n",
       "      <td>1993</td>\n",
       "    </tr>\n",
       "    <tr>\n",
       "      <th>4</th>\n",
       "      <td>[104.675, 31.808]</td>\n",
       "      <td>[255, 16, 255, 255]</td>\n",
       "      <td>1993</td>\n",
       "    </tr>\n",
       "  </tbody>\n",
       "</table>\n",
       "</div>"
      ],
      "text/plain": [
       "            position                color  year\n",
       "0  [104.575, 31.808]  [255, 16, 255, 255]  1993\n",
       "1  [104.583, 31.808]  [255, 16, 255, 255]  1993\n",
       "2  [104.592, 31.808]  [255, 16, 255, 255]  1993\n",
       "3    [104.6, 31.808]  [255, 16, 255, 255]  1993\n",
       "4  [104.675, 31.808]  [255, 16, 255, 255]  1993"
      ]
     },
     "execution_count": 4,
     "metadata": {},
     "output_type": "execute_result"
    }
   ],
   "source": [
    "df['position'] = df.apply(lambda row: [row['lng'], row['lat']], axis=1)\n",
    "# Make the data frame smaller by only plotting useful fields\n",
    "result_df = df[['position', 'color', 'year']]\n",
    "result_df.head()"
   ]
  },
  {
   "cell_type": "markdown",
   "metadata": {},
   "source": [
    "## Plotting and interacting\n",
    "\n",
    "We can plot this data set of light brightness by year, configuring a slider to filter the data as below:"
   ]
  },
  {
   "cell_type": "code",
   "execution_count": 5,
   "metadata": {},
   "outputs": [
    {
     "data": {
      "application/vnd.jupyter.widget-view+json": {
       "model_id": "d2b81fe4c21b4af4a445e3d4ed65ad09",
       "version_major": 2,
       "version_minor": 0
      },
      "text/plain": [
       "RGVja0dMV2lkZ2V0KGpzb25faW5wdXQ9dSd7ImluaXRpYWxWaWV3U3RhdGUiOiB7ImJlYXJpbmciOiAwLCAibGF0aXR1ZGUiOiAzMS4wLCAibG9uZ2l0dWRlIjogMTA0LjUsICJtYXhab29tIjrigKY=\n"
      ]
     },
     "metadata": {},
     "output_type": "display_data"
    }
   ],
   "source": [
    "plottable = result_df[result_df['year'] == 1993].to_dict(orient='records')\n",
    "\n",
    "view_state = pyd.ViewState(latitude=31.0, longitude=104.5, zoom=8)\n",
    "scatterplot = pyd.Layer(\n",
    "    'ScatterplotLayer',\n",
    "    data=plottable,\n",
    "    get_position='position',\n",
    "    get_fill_color='color',\n",
    "    opacity=0.5,\n",
    "    get_radius=800)\n",
    "r = pyd.Deck(layers=[scatterplot], initial_view_state=view_state)\n",
    "r.show()"
   ]
  },
  {
   "cell_type": "code",
   "execution_count": 14,
   "metadata": {},
   "outputs": [
    {
     "data": {
      "application/vnd.jupyter.widget-view+json": {
       "model_id": "bc1453710eb14d9c8f3c48d57ac00e9b",
       "version_major": 2,
       "version_minor": 0
      },
      "text/plain": [
       "IntSlider(value=1993, max=2013, min=1993, step=2)"
      ]
     },
     "metadata": {},
     "output_type": "display_data"
    }
   ],
   "source": [
    "import ipywidgets as widgets\n",
    "from IPython.display import display\n",
    "slider = widgets.IntSlider(1992, min=1993, max=2013, step=2)\n",
    "def on_change(v):\n",
    "    plottable = result_df[result_df['year'] == slider.value].to_dict(orient='records')\n",
    "    scatterplot.data = plottable\n",
    "    r.update()\n",
    "    \n",
    "slider.observe(on_change, names='value')\n",
    "display(slider)"
   ]
  }
 ],
 "metadata": {
  "kernelspec": {
   "display_name": "Python 2",
   "language": "python",
   "name": "python2"
  },
  "language_info": {
   "codemirror_mode": {
    "name": "ipython",
    "version": 3
   },
   "file_extension": ".py",
   "mimetype": "text/x-python",
   "name": "python",
   "nbconvert_exporter": "python",
   "pygments_lexer": "ipython3",
   "version": "3.7.3"
  }
 },
 "nbformat": 4,
 "nbformat_minor": 2
}
